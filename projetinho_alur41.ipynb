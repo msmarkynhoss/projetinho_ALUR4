{
  "nbformat": 4,
  "nbformat_minor": 0,
  "metadata": {
    "colab": {
      "provenance": [],
      "authorship_tag": "ABX9TyNrSqaTtlr39g2BlVBAXHkF",
      "include_colab_link": true
    },
    "kernelspec": {
      "name": "python3",
      "display_name": "Python 3"
    },
    "language_info": {
      "name": "python"
    }
  },
  "cells": [
    {
      "cell_type": "markdown",
      "metadata": {
        "id": "view-in-github",
        "colab_type": "text"
      },
      "source": [
        "<a href=\"https://colab.research.google.com/github/msmarkynhoss/projetinho_ALUR4/blob/main/projetinho_alur41.ipynb\" target=\"_parent\"><img src=\"https://colab.research.google.com/assets/colab-badge.svg\" alt=\"Open In Colab\"/></a>"
      ]
    },
    {
      "cell_type": "code",
      "source": [
        "!pip install -q -U google-generativeai\n",
        "\n",
        "import google.generativeai as genai\n",
        "import nltk\n",
        "import pathlib\n",
        "import textwrap\n",
        "\n",
        "import google.generativeai as genai\n",
        "\n",
        "from IPython.display import display\n",
        "from IPython.display import Markdown\n",
        "\n",
        "\n",
        "def to_markdown(text):\n",
        "  text = text.replace('•', '  *')\n",
        "  return Markdown(textwrap.indent(text, '> ', predicate=lambda _: True))\n",
        "\n",
        "# Used to securely store your API key\n",
        "from google.colab import userdata\n",
        "\n",
        "api_key = userdata.get(\"secret_key\")\n",
        "genai.configure(api_key=api_key)\n",
        "model = genai.GenerativeModel(model_name='gemini-1.0-pro')\n",
        "\n",
        "def gerar_ideias(plataforma, nicho, prompt, publico_alvo=\"geral\", estilo=\"informativo\"):\n",
        "  prompt_completo = f\"\"\"\n",
        "  Gere ideias detalhadas para um vídeo no {plataforma} sobre {nicho}.\n",
        "  Público-alvo: {publico_alvo}\n",
        "  Estilo: {estilo}\n",
        "  Ideia principal: {prompt}\n",
        "  Inclua:\n",
        "    - Título chamativo\n",
        "    - Descrição concisa e envolvente\n",
        "    - Roteiro com etapas principais\n",
        "    - Sugestões visuais para a miniatura\n",
        "    - Chamadas para ação eficazes\n",
        "    - Hashtags relevantes\n",
        "  \"\"\"\n",
        "  resposta = model.generate_content(prompt_completo)\n",
        "  return resposta.text\n",
        "\n",
        "# Exemplo de uso\n",
        "plataforma = input(\"Qual plataforma você posta seus videos: \")\n",
        "nicho = input(\"Qual nicho dos seus videos: \")\n",
        "prompt = input(\"Qual a ideia principal para este video: \")\n",
        "ideias = gerar_ideias(plataforma, nicho, prompt)\n",
        "print(ideias)"
      ],
      "metadata": {
        "id": "w_AY7j6CTTYz"
      },
      "execution_count": null,
      "outputs": []
    }
  ]
}